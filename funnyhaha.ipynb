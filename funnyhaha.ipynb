{
 "cells": [
  {
   "cell_type": "markdown",
   "id": "28fece56",
   "metadata": {},
   "source": [
    "# HTML notes\n",
    "## Tags\n",
    "Tags make up HTML elements. There are opening tags that can have attributes, and closeing tags. Everything between these tags is the element \"content\".\n",
    "### Example"
   ]
  },
  {
   "cell_type": "code",
   "execution_count": 2,
   "id": "cc3331f9",
   "metadata": {},
   "outputs": [
    {
     "data": {
      "text/html": [
       "<b> This text is bold</b>\n"
      ],
      "text/plain": [
       "<IPython.core.display.HTML object>"
      ]
     },
     "metadata": {},
     "output_type": "display_data"
    }
   ],
   "source": [
    "%%html\n",
    "<b> This text is bold</b>"
   ]
  },
  {
   "cell_type": "markdown",
   "id": "8837b956",
   "metadata": {},
   "source": [
    "## Attributes\n",
    "The opening tag can have attributes, which modify the elements.\n",
    "### Example"
   ]
  },
  {
   "cell_type": "code",
   "execution_count": 3,
   "id": "102d3fa8",
   "metadata": {},
   "outputs": [
    {
     "data": {
      "text/html": [
       "<img src=\"https://encrypted-tbn0.gstatic.com/images?q=tbn:ANd9GcSkEs4dQsU-ofrvlbruhXGwFY7Lm5WAOMfN9Q:https://media.baamboozle.com/uploads/images/279781/1613620434_121729.jpeg&usqp=CAU\">\n"
      ],
      "text/plain": [
       "<IPython.core.display.HTML object>"
      ]
     },
     "metadata": {},
     "output_type": "display_data"
    }
   ],
   "source": [
    "%%html\n",
    "<img src=\"https://encrypted-tbn0.gstatic.com/images?q=tbn:ANd9GcSkEs4dQsU-ofrvlbruhXGwFY7Lm5WAOMfN9Q:https://media.baamboozle.com/uploads/images/279781/1613620434_121729.jpeg&usqp=CAU\">"
   ]
  },
  {
   "cell_type": "code",
   "execution_count": 5,
   "id": "84c3881d",
   "metadata": {},
   "outputs": [
    {
     "data": {
      "application/javascript": [
       "alert(\"look out it's godzilla!\");\n"
      ],
      "text/plain": [
       "<IPython.core.display.Javascript object>"
      ]
     },
     "metadata": {},
     "output_type": "display_data"
    }
   ],
   "source": [
    "%%js\n",
    "alert(\"look out, it's Godzilla!\");"
   ]
  },
  {
   "cell_type": "code",
   "execution_count": null,
   "id": "df517300",
   "metadata": {},
   "outputs": [],
   "source": []
  }
 ],
 "metadata": {
  "kernelspec": {
   "display_name": "Python 3 (ipykernel)",
   "language": "python",
   "name": "python3"
  },
  "language_info": {
   "codemirror_mode": {
    "name": "ipython",
    "version": 3
   },
   "file_extension": ".py",
   "mimetype": "text/x-python",
   "name": "python",
   "nbconvert_exporter": "python",
   "pygments_lexer": "ipython3",
   "version": "3.9.1"
  }
 },
 "nbformat": 4,
 "nbformat_minor": 5
}
